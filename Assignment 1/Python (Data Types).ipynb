{
 "cells": [
  {
   "cell_type": "markdown",
   "metadata": {
    "id": "DJyD36nAzoW7"
   },
   "source": [
    "# **Task 1: Lists, Tuples, and Sets**"
   ]
  },
  {
   "cell_type": "markdown",
   "metadata": {
    "id": "cNx2q6s0zqWv"
   },
   "source": [
    "* Create a list containing the numbers `[10, 20, 30, 40, 50]`.\n",
    "* Print the third element from the list.\n",
    "* Convert the list into a tuple and print it.\n",
    "* Convert the list into a set and print it."
   ]
  },
  {
   "cell_type": "code",
   "execution_count": 3,
   "metadata": {
    "id": "yUDvtsSgxYl7"
   },
   "outputs": [
    {
     "name": "stdout",
     "output_type": "stream",
     "text": [
      "<class 'list'>\n",
      "30\n",
      "<class 'tuple'>\n",
      "(10, 20, 30, 40, 50)\n",
      "<class 'tuple'>\n",
      "(10, 20, 30, 40, 50)\n"
     ]
    }
   ],
   "source": [
    "numbers:list[int] = [10, 20, 30, 40, 50]\n",
    "print(type(numbers))\n",
    "print(numbers[2])\n",
    "\n",
    "numbers_tuple:tuple[int] = tuple(numbers)\n",
    "print(type(numbers_tuple))\n",
    "print(numbers_tuple)\n",
    "\n",
    "numbers_set:set[int] = tuple(numbers)\n",
    "print(type(numbers_set))\n",
    "print(numbers_set)"
   ]
  },
  {
   "cell_type": "markdown",
   "metadata": {
    "id": "te5sIazBzuGC"
   },
   "source": [
    "# **Task 2: Dictionary Operations**"
   ]
  },
  {
   "cell_type": "markdown",
   "metadata": {
    "id": "sRt6w4aGzvSu"
   },
   "source": [
    "1. Create a dictionary with the following key-value pairs:\n",
    " * \"**name**\": \"Alice\"\n",
    " * \"**age**\": 25\n",
    " * \"**city**\": \"New York\"\n",
    "2. Print the value associated with the \"age\" key.\n",
    "3. Add a new key \"job\" with the value \"Engineer\".\n",
    "4. Update the \"age\" value to 26.\n",
    "5. Print the updated dictionary."
   ]
  },
  {
   "cell_type": "code",
   "execution_count": 6,
   "metadata": {
    "id": "aFQloXjtzvEO"
   },
   "outputs": [
    {
     "name": "stdout",
     "output_type": "stream",
     "text": [
      "Alice\n",
      "{'name': 'Alice', 'age': 26, 'city': 'New York', 'job': 'Engineer'}\n"
     ]
    }
   ],
   "source": [
    "person:dict = {\n",
    "    \"name\": \"Alice\",\n",
    "    \"age\": 25,\n",
    "    \"city\": \"New York\"\n",
    "}\n",
    "\n",
    "print(person[\"name\"])\n",
    "\n",
    "person[\"job\"] = \"Engineer\"\n",
    "\n",
    "# person[\"age\"] += 1\n",
    "person[\"age\"] = 26\n",
    "\n",
    "print(person)"
   ]
  },
  {
   "cell_type": "markdown",
   "metadata": {
    "id": "v7G26IPEz32q"
   },
   "source": [
    "# **Task 3: Basic Arithmetic Operations**"
   ]
  },
  {
   "cell_type": "markdown",
   "metadata": {
    "id": "la7De3nmz6F2"
   },
   "source": [
    "Write a Python program that:\n",
    "\n",
    "1. Asks the user to enter two numbers.\n",
    "2. Performs the following operations and prints the results:\n",
    " * Addition (+)\n",
    " * Subtraction (-)\n",
    " * Multiplication (*)\n",
    " * Division (/)"
   ]
  },
  {
   "cell_type": "code",
   "execution_count": 1,
   "metadata": {
    "id": "uUi_JyK30EvV"
   },
   "outputs": [
    {
     "name": "stdout",
     "output_type": "stream",
     "text": [
      "3\n",
      "-1\n",
      "2\n",
      "0.5\n"
     ]
    }
   ],
   "source": [
    "number1:int = int(input(\"Enter the first number: \"))\n",
    "number2:int = int(input(\"Enter the second number: \"))\n",
    "\n",
    "print(number1 + number2)\n",
    "print(number1 - number2)\n",
    "print(number1 * number2)\n",
    "print(number1 / number2)"
   ]
  },
  {
   "cell_type": "markdown",
   "metadata": {
    "id": "Kp1TFNEQ0CFM"
   },
   "source": [
    "# **Task 4: Modulo Operator**"
   ]
  },
  {
   "cell_type": "markdown",
   "metadata": {
    "id": "EBsebuVq0ERf"
   },
   "source": [
    "1. Ask the user to enter a number.\n",
    "2. Check if the number is even or odd using the modulus operator (%).\n",
    "3. Print \"Even\" if the number is divisible by 2, otherwise print \"Odd\"."
   ]
  },
  {
   "cell_type": "code",
   "execution_count": 6,
   "metadata": {
    "id": "cUEKshPnz519"
   },
   "outputs": [
    {
     "name": "stdout",
     "output_type": "stream",
     "text": [
      "number 2 is even\n"
     ]
    }
   ],
   "source": [
    "number:int = int(input(\"Enter a number: \"))\n",
    "\n",
    "if number % 2 == 0:\n",
    "    print(\"number\", number, \"is even\")\n",
    "elif number % 2 == 1:\n",
    "    print(\"number\", number, \"is odd\")\n"
   ]
  },
  {
   "cell_type": "markdown",
   "metadata": {
    "id": "TpGBCxSl0JHO"
   },
   "source": [
    "#  **Task 5: If Condition**"
   ]
  },
  {
   "cell_type": "markdown",
   "metadata": {
    "id": "p9KqJh2h0LQs"
   },
   "source": [
    "1. Ask the user to enter their age.\n",
    "2. Print the following messages based on their age:\n",
    " * If the age is less than 18, print \"You are a minor.\"\n",
    " * If the age is 18 or older but less than 60, print \"You are an adult.\"\n",
    " * If the age is 60 or older, print \"You are a senior citizen.\""
   ]
  },
  {
   "cell_type": "code",
   "execution_count": 12,
   "metadata": {
    "id": "VFypeMIO0JCR"
   },
   "outputs": [
    {
     "name": "stdout",
     "output_type": "stream",
     "text": [
      "You are an adult.\n"
     ]
    }
   ],
   "source": [
    "age:int = int(input(\"Enter your age: \"))\n",
    "if age < 117 and age > 0:\n",
    "    if age < 18:\n",
    "        print(\"You are a minor.\")\n",
    "    elif age < 60:\n",
    "        print(\"You are an adult.\")\n",
    "    else:\n",
    "        print(\"You are a senior citizen.\")\n",
    "else:\n",
    "    print(\"Invalid age, please rerun the cell and enter a valid age.\")"
   ]
  },
  {
   "cell_type": "markdown",
   "metadata": {
    "id": "MIYYIw9E0P67"
   },
   "source": [
    "# **Task 6: Nested If Condition**"
   ]
  },
  {
   "cell_type": "markdown",
   "metadata": {
    "id": "d55a7e050QsY"
   },
   "source": [
    "1. Ask the user for a temperature in Celsius.\n",
    "2. Print different messages based on the following conditions:\n",
    " * If the temperature is below 0, print \"Freezing!\"\n",
    " * If the temperature is between 0 and 20, print \"Cold\"\n",
    " * If the temperature is between 21 and 30, print \"Warm\"\n",
    " * If the temperature is above 30, print \"Hot!\""
   ]
  },
  {
   "cell_type": "code",
   "execution_count": 13,
   "metadata": {
    "id": "piHS37rT0P1j"
   },
   "outputs": [
    {
     "name": "stdout",
     "output_type": "stream",
     "text": [
      "Cold\n"
     ]
    }
   ],
   "source": [
    "temp:int = int(input(\"Enter the temperature: \"))\n",
    "\n",
    "if temp < 0:\n",
    "    print(\"Freezing!\")\n",
    "elif temp <= 20:\n",
    "    print(\"Cold\")\n",
    "elif temp <= 30:\n",
    "    print(\"Warm\")\n",
    "else:\n",
    "    print(\"Hot!\")"
   ]
  },
  {
   "cell_type": "markdown",
   "metadata": {
    "id": "iX5EDklJ0Xtb"
   },
   "source": [
    "# **Task 7: For Loop**"
   ]
  },
  {
   "cell_type": "markdown",
   "metadata": {
    "id": "AV7JKKu60Yim"
   },
   "source": [
    "1. Write a Python program that prints numbers from 1 to 10 using a for loop.\n",
    "2. Print \"Even\" if the number is even, otherwise print \"Odd\"."
   ]
  },
  {
   "cell_type": "code",
   "execution_count": 14,
   "metadata": {
    "id": "Ca5ISJIS0XkS"
   },
   "outputs": [
    {
     "name": "stdout",
     "output_type": "stream",
     "text": [
      "number 1 is odd.\n",
      "number 2 is even.\n",
      "number 3 is odd.\n",
      "number 4 is even.\n",
      "number 5 is odd.\n",
      "number 6 is even.\n",
      "number 7 is odd.\n",
      "number 8 is even.\n",
      "number 9 is odd.\n",
      "number 10 is even.\n"
     ]
    }
   ],
   "source": [
    "for number in range(1, 11):\n",
    "    if number % 2 == 0:\n",
    "        print(\"number\", number, \"is even.\")\n",
    "    elif number % 2 == 1:\n",
    "        print(\"number\", number, \"is odd.\")\n"
   ]
  },
  {
   "cell_type": "markdown",
   "metadata": {
    "id": "o1l7A4zx0abo"
   },
   "source": [
    "# **Task 8: While Loop**"
   ]
  },
  {
   "cell_type": "markdown",
   "metadata": {
    "id": "gu0wkyhB0dON"
   },
   "source": [
    "Write a Python program that prints numbers from 5 down to 1 using a while loop.\n"
   ]
  },
  {
   "cell_type": "code",
   "execution_count": 15,
   "metadata": {
    "id": "uD758XPf0aWj"
   },
   "outputs": [
    {
     "name": "stdout",
     "output_type": "stream",
     "text": [
      "5\n",
      "4\n",
      "3\n",
      "2\n",
      "1\n"
     ]
    }
   ],
   "source": [
    "number:int = 5\n",
    "\n",
    "# while loop will work if the number is not zero dealing with all the numbers as if they were True except for zero it deals with it as False\n",
    "# while number:\n",
    "while number != 0:\n",
    "    print(number)\n",
    "    number -= 1"
   ]
  },
  {
   "cell_type": "markdown",
   "metadata": {
    "id": "NmQ2yR6T0gfu"
   },
   "source": [
    "# **Task 9: Loop with Break**"
   ]
  },
  {
   "cell_type": "markdown",
   "metadata": {
    "id": "ImFEYXy_0hV5"
   },
   "source": [
    "1. Write a Python program that asks the user to enter numbers continuously.\n",
    "2. If the user enters 0, the program should stop (break).\n",
    "3. Otherwise, the program prints \"You entered: < number >\" and asks for another input."
   ]
  },
  {
   "cell_type": "code",
   "execution_count": null,
   "metadata": {
    "id": "L0ZNNFwW0rJu"
   },
   "outputs": [
    {
     "name": "stdout",
     "output_type": "stream",
     "text": [
      "You entered  1\n",
      "You entered  2\n",
      "You entered  3\n",
      "You entered  4\n",
      "You entered  2\n",
      "You entered  1\n",
      "You entered  2\n",
      "You entered  1\n",
      "You entered  1\n",
      "You entered  1\n",
      "You entered  1\n",
      "You entered  2\n",
      "You entered  2\n"
     ]
    }
   ],
   "source": [
    "number:int = None\n",
    "\n",
    "while True:\n",
    "    number = int(input(\"Enter the number\"))\n",
    "    if number == 0:\n",
    "        break\n",
    "    else:\n",
    "        print(\"You entered \", number)"
   ]
  },
  {
   "cell_type": "markdown",
   "metadata": {
    "id": "G07xPiZ30poe"
   },
   "source": [
    "# **Task 10: Challenge Task**"
   ]
  },
  {
   "cell_type": "markdown",
   "metadata": {
    "id": "hCCyrs0q0qy4"
   },
   "source": [
    "1. Write a Python program that prints the Fibonacci sequence up to 10 terms.\n",
    "2. The Fibonacci sequence starts with 0, 1, and each next number is the sum of the previous two numbers."
   ]
  },
  {
   "cell_type": "code",
   "execution_count": null,
   "metadata": {
    "id": "I6MkrzMg0gYT"
   },
   "outputs": [
    {
     "name": "stdout",
     "output_type": "stream",
     "text": [
      "[0, 1, 1, 2, 3, 5, 8, 13, 21, 34]\n"
     ]
    }
   ],
   "source": [
    "# I know this is not the optimal solution but i tried 🥲🥲😔\n",
    "\n",
    "result:list[int] = [0, 1]\n",
    "\n",
    "for number in range(8):\n",
    "    result.append(result[-1] + result[-2])\n",
    "\n",
    "print(result)"
   ]
  }
 ],
 "metadata": {
  "colab": {
   "collapsed_sections": [
    "DJyD36nAzoW7",
    "te5sIazBzuGC",
    "v7G26IPEz32q",
    "Kp1TFNEQ0CFM",
    "TpGBCxSl0JHO",
    "MIYYIw9E0P67",
    "iX5EDklJ0Xtb",
    "o1l7A4zx0abo",
    "NmQ2yR6T0gfu",
    "G07xPiZ30poe"
   ],
   "provenance": []
  },
  "kernelspec": {
   "display_name": "Python 3",
   "language": "python",
   "name": "python3"
  },
  "language_info": {
   "codemirror_mode": {
    "name": "ipython",
    "version": 3
   },
   "file_extension": ".py",
   "mimetype": "text/x-python",
   "name": "python",
   "nbconvert_exporter": "python",
   "pygments_lexer": "ipython3",
   "version": "3.13.0"
  }
 },
 "nbformat": 4,
 "nbformat_minor": 4
}
