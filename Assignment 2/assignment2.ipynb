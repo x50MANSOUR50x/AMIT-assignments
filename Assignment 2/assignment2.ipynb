{
 "cells": [
  {
   "cell_type": "markdown",
   "metadata": {},
   "source": [
    "# **Task 7: For Loop**"
   ]
  },
  {
   "cell_type": "markdown",
   "metadata": {},
   "source": [
    "1. Write a Python program that prints numbers from 1 to 10 using a for loop.\n",
    "2. Print \"Even\" if the number is even, otherwise print \"Odd\"."
   ]
  },
  {
   "cell_type": "code",
   "execution_count": null,
   "metadata": {},
   "outputs": [
    {
     "name": "stdout",
     "output_type": "stream",
     "text": [
      "number 1 is odd.\n",
      "number 2 is even.\n",
      "number 3 is odd.\n",
      "number 4 is even.\n",
      "number 5 is odd.\n",
      "number 6 is even.\n",
      "number 7 is odd.\n",
      "number 8 is even.\n",
      "number 9 is odd.\n",
      "number 10 is even.\n"
     ]
    }
   ],
   "source": [
    "for number in range(1, 11):\n",
    "    if number % 2 == 0:\n",
    "        print(\"number\", number, \"is even.\")\n",
    "    elif number % 2 == 1:\n",
    "        print(\"number\", number, \"is odd.\")\n"
   ]
  },
  {
   "cell_type": "markdown",
   "metadata": {},
   "source": [
    "# **Task 8: While Loop**"
   ]
  },
  {
   "cell_type": "markdown",
   "metadata": {},
   "source": [
    "Write a Python program that prints numbers from 5 down to 1 using a while loop.\n"
   ]
  },
  {
   "cell_type": "code",
   "execution_count": null,
   "metadata": {},
   "outputs": [
    {
     "name": "stdout",
     "output_type": "stream",
     "text": [
      "5\n",
      "4\n",
      "3\n",
      "2\n",
      "1\n"
     ]
    }
   ],
   "source": [
    "number:int = 5\n",
    "\n",
    "# while loop will work if the number is not zero dealing with all the numbers as if they were True except for zero it deals with it as False\n",
    "# while number:\n",
    "while number != 0:\n",
    "    print(number)\n",
    "    number -= 1"
   ]
  },
  {
   "cell_type": "markdown",
   "metadata": {},
   "source": [
    "# **Task 9: Loop with Break**"
   ]
  },
  {
   "cell_type": "markdown",
   "metadata": {},
   "source": [
    "1. Write a Python program that asks the user to enter numbers continuously.\n",
    "2. If the user enters 0, the program should stop (break).\n",
    "3. Otherwise, the program prints \"You entered: < number >\" and asks for another input."
   ]
  },
  {
   "cell_type": "code",
   "execution_count": null,
   "metadata": {},
   "outputs": [
    {
     "name": "stdout",
     "output_type": "stream",
     "text": [
      "You entered  1\n",
      "You entered  2\n",
      "You entered  3\n",
      "You entered  4\n",
      "You entered  2\n",
      "You entered  1\n",
      "You entered  2\n",
      "You entered  1\n",
      "You entered  1\n",
      "You entered  1\n",
      "You entered  1\n",
      "You entered  2\n",
      "You entered  2\n"
     ]
    }
   ],
   "source": [
    "number:int = None\n",
    "\n",
    "while True:\n",
    "    number = int(input(\"Enter the number\"))\n",
    "    if number == 0:\n",
    "        break\n",
    "    else:\n",
    "        print(\"You entered \", number)"
   ]
  },
  {
   "cell_type": "markdown",
   "metadata": {},
   "source": [
    "# **Task 10: Challenge Task**"
   ]
  },
  {
   "cell_type": "markdown",
   "metadata": {},
   "source": [
    "1. Write a Python program that prints the Fibonacci sequence up to 10 terms.\n",
    "2. The Fibonacci sequence starts with 0, 1, and each next number is the sum of the previous two numbers."
   ]
  },
  {
   "cell_type": "code",
   "execution_count": 1,
   "metadata": {},
   "outputs": [
    {
     "name": "stdout",
     "output_type": "stream",
     "text": [
      "[0, 1, 1, 2, 3, 5, 8, 13, 21, 34]\n"
     ]
    }
   ],
   "source": [
    "# I know this is not the optimal solution but i tried 🥲🥲😔\n",
    "\n",
    "result:list[int] = [0, 1]\n",
    "\n",
    "for number in range(8):\n",
    "    result.append(result[-1] + result[-2])\n",
    "\n",
    "print(result)"
   ]
  },
  {
   "cell_type": "markdown",
   "metadata": {},
   "source": [
    "# **Write a function that checks if a word or number is a palindrome (reads the same forwards and backwards).**\n"
   ]
  },
  {
   "cell_type": "markdown",
   "metadata": {},
   "source": [
    "### Task: Write a function is_palindrome(s) to check if a string or number is a palindrome.\n"
   ]
  },
  {
   "cell_type": "code",
   "execution_count": null,
   "metadata": {},
   "outputs": [],
   "source": [
    "def is_plaindrome(word:str) -> bool:\n",
    "    reversed_word:str = reversed(word)"
   ]
  }
 ],
 "metadata": {
  "kernelspec": {
   "display_name": "Python 3",
   "language": "python",
   "name": "python3"
  },
  "language_info": {
   "codemirror_mode": {
    "name": "ipython",
    "version": 3
   },
   "file_extension": ".py",
   "mimetype": "text/x-python",
   "name": "python",
   "nbconvert_exporter": "python",
   "pygments_lexer": "ipython3",
   "version": "3.13.0"
  }
 },
 "nbformat": 4,
 "nbformat_minor": 2
}
